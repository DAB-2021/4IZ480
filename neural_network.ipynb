{
 "cells": [
  {
   "cell_type": "markdown",
   "metadata": {},
   "source": [
    "# Neural network models"
   ]
  },
  {
   "cell_type": "code",
   "execution_count": 3,
   "metadata": {},
   "outputs": [],
   "source": [
    "from neural_network import build_neural_network\n",
    "import pandas as pd\n",
    "from sklearn.model_selection import train_test_split\n",
    "from sklearn.metrics import plot_confusion_matrix\n",
    "from sklearn.metrics import accuracy_score\n",
    "from matplotlib import pyplot as plt\n",
    "from imblearn.over_sampling import RandomOverSampler"
   ]
  },
  {
   "cell_type": "markdown",
   "metadata": {},
   "source": [
    "## Data segmenation for training"
   ]
  },
  {
   "cell_type": "code",
   "execution_count": 4,
   "metadata": {},
   "outputs": [],
   "source": [
    "df_new = pd.read_csv('PreparedData.csv', sep=';', index_col=0)"
   ]
  },
  {
   "cell_type": "code",
   "execution_count": 5,
   "metadata": {},
   "outputs": [],
   "source": [
    "# Create new data frame without New_Credit_Card_Flag column\n",
    "df_x = df_new.drop([\"New_Credit_Card_Flag\"], axis=1)\n",
    "\n",
    "# Create new data frame with only New_Credit_Card_Flag column\n",
    "df_y = df_new[\"New_Credit_Card_Flag\"]"
   ]
  },
  {
   "cell_type": "code",
   "execution_count": 6,
   "metadata": {},
   "outputs": [],
   "source": [
    "# Split data into random train and test subsets (Cross validation)\n",
    "x_train, x_test, y_train, y_test = train_test_split(df_x, df_y, test_size=.2)"
   ]
  },
  {
   "cell_type": "markdown",
   "metadata": {},
   "source": [
    "## Train model"
   ]
  },
  {
   "cell_type": "code",
   "execution_count": 7,
   "metadata": {},
   "outputs": [
    {
     "name": "stdout",
     "output_type": "stream",
     "text": [
      "Epoch 1/20\n",
      "2619/2619 [==============================] - 4s 1ms/step - loss: 0.2233 - accuracy: 0.9444\n",
      "Epoch 2/20\n",
      "2619/2619 [==============================] - 3s 1ms/step - loss: 0.2140 - accuracy: 0.9448\n",
      "Epoch 3/20\n",
      "2619/2619 [==============================] - 4s 2ms/step - loss: 0.2106 - accuracy: 0.9448\n",
      "Epoch 4/20\n",
      "2619/2619 [==============================] - 3s 1ms/step - loss: 0.2081 - accuracy: 0.9448\n",
      "Epoch 5/20\n",
      "2619/2619 [==============================] - 3s 1ms/step - loss: 0.2053 - accuracy: 0.9448\n",
      "Epoch 6/20\n",
      "2619/2619 [==============================] - 3s 1ms/step - loss: 0.2035 - accuracy: 0.9448\n",
      "Epoch 7/20\n",
      "2619/2619 [==============================] - 4s 1ms/step - loss: 0.2018 - accuracy: 0.9448\n",
      "Epoch 8/20\n",
      "2619/2619 [==============================] - 3s 1ms/step - loss: 0.1998 - accuracy: 0.9448\n",
      "Epoch 9/20\n",
      "2619/2619 [==============================] - 3s 1ms/step - loss: 0.1993 - accuracy: 0.9448\n",
      "Epoch 10/20\n",
      "2619/2619 [==============================] - 3s 1ms/step - loss: 0.1971 - accuracy: 0.9448\n",
      "Epoch 11/20\n",
      "2619/2619 [==============================] - 3s 966us/step - loss: 0.1973 - accuracy: 0.9448\n",
      "Epoch 12/20\n",
      "2619/2619 [==============================] - 3s 1ms/step - loss: 0.1961 - accuracy: 0.9448\n",
      "Epoch 13/20\n",
      "2619/2619 [==============================] - 3s 1ms/step - loss: 0.1948 - accuracy: 0.9448\n",
      "Epoch 14/20\n",
      "2619/2619 [==============================] - 3s 1ms/step - loss: 0.1942 - accuracy: 0.9448\n",
      "Epoch 15/20\n",
      "2619/2619 [==============================] - 3s 1ms/step - loss: 0.1932 - accuracy: 0.9448\n",
      "Epoch 16/20\n",
      "2619/2619 [==============================] - 3s 975us/step - loss: 0.1919 - accuracy: 0.9448\n",
      "Epoch 17/20\n",
      "2619/2619 [==============================] - 3s 998us/step - loss: 0.1906 - accuracy: 0.9448\n",
      "Epoch 18/20\n",
      "2619/2619 [==============================] - 2s 881us/step - loss: 0.1907 - accuracy: 0.9448\n",
      "Epoch 19/20\n",
      "2619/2619 [==============================] - 2s 849us/step - loss: 0.1905 - accuracy: 0.9448\n",
      "Epoch 20/20\n",
      "2619/2619 [==============================] - 2s 938us/step - loss: 0.1900 - accuracy: 0.9448\n"
     ]
    }
   ],
   "source": [
    "neural_network_model = build_neural_network(x_train, y_train)"
   ]
  },
  {
   "cell_type": "code",
   "execution_count": 8,
   "metadata": {},
   "outputs": [
    {
     "name": "stdout",
     "output_type": "stream",
     "text": [
      "Accuracy score of neural network is 0.9440492671981668\n"
     ]
    }
   ],
   "source": [
    "# Predict using trained model and test data\n",
    "y_hat = neural_network_model.predict(x_test)\n",
    "\n",
    "# Modify predicted values to either 0 or 1 depending if < 0.5 or not\n",
    "y_hat = [0 if val < 0.5 else 1 for val in y_hat]\n",
    "\n",
    "# Calculate accuracy\n",
    "neural_network_accuracy = accuracy_score(y_test, y_hat)\n",
    "print(f\"Accuracy score of neural network is {neural_network_accuracy}\")"
   ]
  },
  {
   "cell_type": "markdown",
   "metadata": {},
   "source": [
    "## Add data using over sampler "
   ]
  },
  {
   "cell_type": "code",
   "execution_count": 9,
   "metadata": {},
   "outputs": [
    {
     "data": {
      "text/plain": [
       "0    98933\n",
       "1    49466\n",
       "Name: New_Credit_Card_Flag, dtype: int64"
      ]
     },
     "execution_count": 9,
     "metadata": {},
     "output_type": "execute_result"
    }
   ],
   "source": [
    "ros = RandomOverSampler(sampling_strategy = 0.5)\n",
    "\n",
    "x_res, y_res = ros.fit_resample(df_x, df_y)\n",
    "\n",
    "y_res.value_counts()"
   ]
  },
  {
   "cell_type": "code",
   "execution_count": 10,
   "metadata": {},
   "outputs": [],
   "source": [
    "x_train, x_test, y_train, y_test = train_test_split(x_res, y_res, test_size=0.2, random_state=101)"
   ]
  },
  {
   "cell_type": "code",
   "execution_count": 11,
   "metadata": {},
   "outputs": [
    {
     "name": "stdout",
     "output_type": "stream",
     "text": [
      "Epoch 1/20\n",
      "3710/3710 [==============================] - 4s 892us/step - loss: 0.6193 - accuracy: 0.6670\n",
      "Epoch 2/20\n",
      "3710/3710 [==============================] - 4s 996us/step - loss: 0.5936 - accuracy: 0.6784\n",
      "Epoch 3/20\n",
      "3710/3710 [==============================] - 3s 896us/step - loss: 0.5781 - accuracy: 0.6910\n",
      "Epoch 4/20\n",
      "3710/3710 [==============================] - 3s 911us/step - loss: 0.5643 - accuracy: 0.7018\n",
      "Epoch 5/20\n",
      "3710/3710 [==============================] - 3s 904us/step - loss: 0.5539 - accuracy: 0.7119\n",
      "Epoch 6/20\n",
      "3710/3710 [==============================] - 3s 770us/step - loss: 0.5435 - accuracy: 0.7199\n",
      "Epoch 7/20\n",
      "3710/3710 [==============================] - 3s 876us/step - loss: 0.5360 - accuracy: 0.7244\n",
      "Epoch 8/20\n",
      "3710/3710 [==============================] - 3s 750us/step - loss: 0.5298 - accuracy: 0.7317\n",
      "Epoch 9/20\n",
      "3710/3710 [==============================] - 3s 801us/step - loss: 0.5278 - accuracy: 0.7347\n",
      "Epoch 10/20\n",
      "3710/3710 [==============================] - 3s 741us/step - loss: 0.5231 - accuracy: 0.7386\n",
      "Epoch 11/20\n",
      "3710/3710 [==============================] - 3s 735us/step - loss: 0.5185 - accuracy: 0.7412\n",
      "Epoch 12/20\n",
      "3710/3710 [==============================] - 3s 699us/step - loss: 0.5151 - accuracy: 0.7430\n",
      "Epoch 13/20\n",
      "3710/3710 [==============================] - 3s 768us/step - loss: 0.5150 - accuracy: 0.7447\n",
      "Epoch 14/20\n",
      "3710/3710 [==============================] - 3s 777us/step - loss: 0.5112 - accuracy: 0.7456\n",
      "Epoch 15/20\n",
      "3710/3710 [==============================] - 3s 688us/step - loss: 0.5086 - accuracy: 0.7469\n",
      "Epoch 16/20\n",
      "3710/3710 [==============================] - 3s 725us/step - loss: 0.5089 - accuracy: 0.7484\n",
      "Epoch 17/20\n",
      "3710/3710 [==============================] - 3s 677us/step - loss: 0.5015 - accuracy: 0.7527\n",
      "Epoch 18/20\n",
      "3710/3710 [==============================] - 3s 750us/step - loss: 0.5045 - accuracy: 0.7501\n",
      "Epoch 19/20\n",
      "3710/3710 [==============================] - 2s 642us/step - loss: 0.5038 - accuracy: 0.7500\n",
      "Epoch 20/20\n",
      "3710/3710 [==============================] - 2s 664us/step - loss: 0.5062 - accuracy: 0.7498\n"
     ]
    }
   ],
   "source": [
    "neural_network_model = build_neural_network(x_train, y_train)"
   ]
  },
  {
   "cell_type": "code",
   "execution_count": 12,
   "metadata": {},
   "outputs": [
    {
     "name": "stdout",
     "output_type": "stream",
     "text": [
      "Accuracy score of neural network is 0.7587264150943396\n"
     ]
    }
   ],
   "source": [
    "# Predict using trained model and test data\n",
    "y_hat = neural_network_model.predict(x_test)\n",
    "\n",
    "# Modify predicted values to either 0 or 1 depending if < 0.5 or not\n",
    "y_hat = [0 if val < 0.5 else 1 for val in y_hat]\n",
    "\n",
    "# Calculate accuracy\n",
    "neural_network_accuracy = accuracy_score(y_test, y_hat)\n",
    "print(f\"Accuracy score of neural network is {neural_network_accuracy}\")"
   ]
  }
 ],
 "metadata": {
  "interpreter": {
   "hash": "ee344d0e3718ccddf4bd715962d7e13125e214c36fe2083c738cce62fb6e9b6e"
  },
  "kernelspec": {
   "display_name": "Python 3.9.6 64-bit",
   "language": "python",
   "name": "python3"
  },
  "language_info": {
   "codemirror_mode": {
    "name": "ipython",
    "version": 3
   },
   "file_extension": ".py",
   "mimetype": "text/x-python",
   "name": "python",
   "nbconvert_exporter": "python",
   "pygments_lexer": "ipython3",
   "version": "3.9.6"
  },
  "orig_nbformat": 4
 },
 "nbformat": 4,
 "nbformat_minor": 2
}
